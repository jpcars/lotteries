{
 "cells": [
  {
   "cell_type": "code",
   "execution_count": 1,
   "id": "41663443",
   "metadata": {},
   "outputs": [
    {
     "name": "stdout",
     "output_type": "stream",
     "text": [
      " No module named 'celluloid'. If you need to use hypernetx.algorithms.contagion, please install additional packages by running the following command: pip install .['all']\n",
      " No module named 'igraph'. If you need to use hypernetx.algorithms.hypergraph_modularity, please install additional packages by running the following command: pip install .['all']\n"
     ]
    }
   ],
   "source": [
    "from lotteries.graph_theory_lotteries import Lottery\n",
    "import hypernetx as hnx"
   ]
  },
  {
   "cell_type": "code",
   "execution_count": 3,
   "id": "56d58854",
   "metadata": {},
   "outputs": [
    {
     "data": {
      "text/plain": [
       "{'hello': (2, 3, 4), 'goodbye': (2, 3, 4, 5)}"
      ]
     },
     "execution_count": 3,
     "metadata": {},
     "output_type": "execute_result"
    }
   ],
   "source": [
    "mylot = Lottery(claimant_groups={'hello': (2,3,4), 'goodbye': (2,3,4,5)},remove_subgroups=False)\n",
    "mylot.graph.setsystem"
   ]
  },
  {
   "cell_type": "code",
   "execution_count": 39,
   "id": "d4c19e69",
   "metadata": {},
   "outputs": [
    {
     "data": {
      "text/plain": [
       "{'name': None,\n",
       " 'misc_cell_properties_col': None,\n",
       " 'misc_properties_col': 'properties',\n",
       " 'default_edge_weight': 1.0,\n",
       " 'default_node_weight': 1.0,\n",
       " '_edge_col': 'edges',\n",
       " '_node_col': 'nodes',\n",
       " '_cell_weight_col': 'cell_weights',\n",
       " 'E': <hypernetx.classes.entityset.EntitySet at 0x7f22dd131f00>,\n",
       " '_edges': <hypernetx.classes.entityset.EntitySet at 0x7f22dd131f00>,\n",
       " '_nodes': <hypernetx.classes.entityset.EntitySet at 0x7f22dd163a90>,\n",
       " '_dataframe':      edges nodes  cell_weights\n",
       " 0    hello     2           1.0\n",
       " 1    hello     3           1.0\n",
       " 2    hello     4           1.0\n",
       " 3  goodbye     2           1.0\n",
       " 4  goodbye     3           1.0\n",
       " 5  goodbye     4           1.0\n",
       " 6  goodbye     5           1.0,\n",
       " '_data_cols': ['edges', 'nodes'],\n",
       " 'self': None, hypernetx.classes.hypergraph.Hypergraph,\n",
       " 'setsystem': {'hello': (2, 3, 4), 'goodbye': (2, 3, 4, 5)},\n",
       " 'cell_weights': 1.0,\n",
       " 'cell_properties': None,\n",
       " 'aggregateby': 'first',\n",
       " 'edge_properties': None,\n",
       " 'node_properties': None,\n",
       " 'properties': None,\n",
       " 'edge_weight_prop_col': 'weight',\n",
       " 'node_weight_prop_col': 'weight',\n",
       " 'weight_prop_col': 'weight',\n",
       " 'default_weight': 1.0,\n",
       " 'kwargs': {},\n",
       " 'misc_cell_properties': 'cell_properties',\n",
       " 'entity':      edges nodes  cell_weights\n",
       " 0    hello     2           1.0\n",
       " 1    hello     3           1.0\n",
       " 2    hello     4           1.0\n",
       " 3  goodbye     2           1.0\n",
       " 4  goodbye     3           1.0\n",
       " 5  goodbye     4           1.0\n",
       " 6  goodbye     5           1.0,\n",
       " 'props2dict': <function hypernetx.classes.hypergraph.Hypergraph.__init__.<locals>.props2dict(df=None)>,\n",
       " 'data_cols': ['edges', 'nodes'],\n",
       " 'cell_weight_col': 'cell_weights',\n",
       " 'edge_col': 'edges',\n",
       " 'node_col': 'nodes',\n",
       " '_state_dict': {'dataframe':      edges nodes  cell_weights\n",
       "  0    hello     2           1.0\n",
       "  1    hello     3           1.0\n",
       "  2    hello     4           1.0\n",
       "  3  goodbye     2           1.0\n",
       "  4  goodbye     3           1.0\n",
       "  5  goodbye     4           1.0\n",
       "  6  goodbye     5           1.0,\n",
       "  'labels': {'edges': array(['goodbye', 'hello'], dtype=object),\n",
       "   'nodes': array([2, 3, 4, 5])},\n",
       "  'data': array([[1, 0],\n",
       "         [1, 1],\n",
       "         [1, 2],\n",
       "         [0, 0],\n",
       "         [0, 1],\n",
       "         [0, 2],\n",
       "         [0, 3]]),\n",
       "  'snodelg': {},\n",
       "  'sedgelg': {},\n",
       "  'neighbors': defaultdict(dict, {}),\n",
       "  'edge_neighbors': defaultdict(dict, {}),\n",
       "  'adjacency_matrix': {},\n",
       "  'edge_adjacency_matrix': {}}}"
      ]
     },
     "execution_count": 39,
     "metadata": {},
     "output_type": "execute_result"
    }
   ],
   "source": [
    "mylot.graph.__dict__"
   ]
  },
  {
   "cell_type": "code",
   "execution_count": 4,
   "id": "eed995f7",
   "metadata": {},
   "outputs": [
    {
     "data": {
      "text/html": [
       "<div>\n",
       "<style scoped>\n",
       "    .dataframe tbody tr th:only-of-type {\n",
       "        vertical-align: middle;\n",
       "    }\n",
       "\n",
       "    .dataframe tbody tr th {\n",
       "        vertical-align: top;\n",
       "    }\n",
       "\n",
       "    .dataframe thead th {\n",
       "        text-align: right;\n",
       "    }\n",
       "</style>\n",
       "<table border=\"1\" class=\"dataframe\">\n",
       "  <thead>\n",
       "    <tr style=\"text-align: right;\">\n",
       "      <th></th>\n",
       "      <th>edges</th>\n",
       "      <th>nodes</th>\n",
       "      <th>cell_weights</th>\n",
       "    </tr>\n",
       "  </thead>\n",
       "  <tbody>\n",
       "    <tr>\n",
       "      <th>3</th>\n",
       "      <td>goodbye</td>\n",
       "      <td>2</td>\n",
       "      <td>1.0</td>\n",
       "    </tr>\n",
       "    <tr>\n",
       "      <th>4</th>\n",
       "      <td>goodbye</td>\n",
       "      <td>3</td>\n",
       "      <td>1.0</td>\n",
       "    </tr>\n",
       "    <tr>\n",
       "      <th>5</th>\n",
       "      <td>goodbye</td>\n",
       "      <td>4</td>\n",
       "      <td>1.0</td>\n",
       "    </tr>\n",
       "    <tr>\n",
       "      <th>6</th>\n",
       "      <td>goodbye</td>\n",
       "      <td>5</td>\n",
       "      <td>1.0</td>\n",
       "    </tr>\n",
       "  </tbody>\n",
       "</table>\n",
       "</div>"
      ],
      "text/plain": [
       "     edges nodes  cell_weights\n",
       "3  goodbye     2           1.0\n",
       "4  goodbye     3           1.0\n",
       "5  goodbye     4           1.0\n",
       "6  goodbye     5           1.0"
      ]
     },
     "execution_count": 4,
     "metadata": {},
     "output_type": "execute_result"
    }
   ],
   "source": [
    "newgraph = mylot.graph.toplexes()\n",
    "newgraph.setsystem"
   ]
  },
  {
   "cell_type": "code",
   "execution_count": 5,
   "id": "cbd0348a",
   "metadata": {},
   "outputs": [
    {
     "data": {
      "text/plain": [
       "{'name': None,\n",
       " 'misc_cell_properties_col': None,\n",
       " 'misc_properties_col': 'properties',\n",
       " 'default_edge_weight': 1.0,\n",
       " 'default_node_weight': 1.0,\n",
       " '_edge_col': 'edges',\n",
       " '_node_col': 'nodes',\n",
       " '_cell_weight_col': 'cell_weights',\n",
       " 'E': <hypernetx.classes.entityset.EntitySet at 0x7f22dd131f00>,\n",
       " '_edges': <hypernetx.classes.entityset.EntitySet at 0x7f22dd131f00>,\n",
       " '_nodes': <hypernetx.classes.entityset.EntitySet at 0x7f22dd163a90>,\n",
       " '_dataframe':      edges nodes  cell_weights\n",
       " 0    hello     2           1.0\n",
       " 1    hello     3           1.0\n",
       " 2    hello     4           1.0\n",
       " 3  goodbye     2           1.0\n",
       " 4  goodbye     3           1.0\n",
       " 5  goodbye     4           1.0\n",
       " 6  goodbye     5           1.0,\n",
       " '_data_cols': ['edges', 'nodes'],\n",
       " 'self': None, hypernetx.classes.hypergraph.Hypergraph,\n",
       " 'setsystem': {'hello': (2, 3, 4), 'goodbye': (2, 3, 4, 5)},\n",
       " 'cell_weights': 1.0,\n",
       " 'cell_properties': None,\n",
       " 'aggregateby': 'first',\n",
       " 'edge_properties': None,\n",
       " 'node_properties': None,\n",
       " 'properties': None,\n",
       " 'edge_weight_prop_col': 'weight',\n",
       " 'node_weight_prop_col': 'weight',\n",
       " 'weight_prop_col': 'weight',\n",
       " 'default_weight': 1.0,\n",
       " 'kwargs': {},\n",
       " 'misc_cell_properties': 'cell_properties',\n",
       " 'entity':      edges nodes  cell_weights\n",
       " 0    hello     2           1.0\n",
       " 1    hello     3           1.0\n",
       " 2    hello     4           1.0\n",
       " 3  goodbye     2           1.0\n",
       " 4  goodbye     3           1.0\n",
       " 5  goodbye     4           1.0\n",
       " 6  goodbye     5           1.0,\n",
       " 'props2dict': <function hypernetx.classes.hypergraph.Hypergraph.__init__.<locals>.props2dict(df=None)>,\n",
       " 'data_cols': ['edges', 'nodes'],\n",
       " 'cell_weight_col': 'cell_weights',\n",
       " 'edge_col': 'edges',\n",
       " 'node_col': 'nodes',\n",
       " '_state_dict': {'dataframe':      edges nodes  cell_weights\n",
       "  0    hello     2           1.0\n",
       "  1    hello     3           1.0\n",
       "  2    hello     4           1.0\n",
       "  3  goodbye     2           1.0\n",
       "  4  goodbye     3           1.0\n",
       "  5  goodbye     4           1.0\n",
       "  6  goodbye     5           1.0,\n",
       "  'labels': {'edges': array(['goodbye', 'hello'], dtype=object),\n",
       "   'nodes': array([2, 3, 4, 5])},\n",
       "  'data': array([[1, 0],\n",
       "         [1, 1],\n",
       "         [1, 2],\n",
       "         [0, 0],\n",
       "         [0, 1],\n",
       "         [0, 2],\n",
       "         [0, 3]]),\n",
       "  'snodelg': {},\n",
       "  'sedgelg': {},\n",
       "  'neighbors': defaultdict(dict, {}),\n",
       "  'edge_neighbors': defaultdict(dict, {}),\n",
       "  'adjacency_matrix': {},\n",
       "  'edge_adjacency_matrix': {}}}"
      ]
     },
     "execution_count": 5,
     "metadata": {},
     "output_type": "execute_result"
    }
   ],
   "source": [
    "mylot.graph.__dict__"
   ]
  },
  {
   "cell_type": "code",
   "execution_count": 6,
   "id": "f3de3199",
   "metadata": {},
   "outputs": [],
   "source": [
    "mylot2 = Lottery(claimant_groups={'hello': (2,3,4), 'goodbye': (1,2), 'goodmorning': (1,2,3)})"
   ]
  },
  {
   "cell_type": "code",
   "execution_count": 13,
   "id": "9d90cf92",
   "metadata": {},
   "outputs": [
    {
     "data": {
      "text/plain": [
       "{'hello': (2, 3, 4), 'goodbye': (1, 2), 'goodmorning': (1, 2, 3)}"
      ]
     },
     "execution_count": 13,
     "metadata": {},
     "output_type": "execute_result"
    }
   ],
   "source": [
    "mylot2.graph.setsystem"
   ]
  },
  {
   "cell_type": "code",
   "execution_count": 14,
   "id": "4c770cf0",
   "metadata": {},
   "outputs": [],
   "source": [
    "import pandas as pd"
   ]
  },
  {
   "cell_type": "code",
   "execution_count": 16,
   "id": "a8889c78",
   "metadata": {},
   "outputs": [],
   "source": [
    "mysetsystem = mylot2.graph.setsystem"
   ]
  },
  {
   "cell_type": "code",
   "execution_count": 22,
   "id": "7fbdadc3",
   "metadata": {},
   "outputs": [],
   "source": [
    "mysetsystem2 = {\n",
    "    'hello': ([2,0.5], [3,0.5], [4,0.8]),\n",
    "    'goodbye': ([1,1], [2,0.3]),\n",
    "    'goodmorning': ([1,0.4], [2,0.2], [3,0.8])}"
   ]
  },
  {
   "cell_type": "code",
   "execution_count": 17,
   "id": "64dfbe2b",
   "metadata": {},
   "outputs": [
    {
     "data": {
      "text/plain": [
       "[('hello', (2, 3, 4)), ('goodbye', (1, 2)), ('goodmorning', (1, 2, 3))]"
      ]
     },
     "execution_count": 17,
     "metadata": {},
     "output_type": "execute_result"
    }
   ],
   "source": [
    "list(mysetsystem.items())"
   ]
  },
  {
   "cell_type": "code",
   "execution_count": 33,
   "id": "882b1814",
   "metadata": {},
   "outputs": [
    {
     "data": {
      "text/html": [
       "<div>\n",
       "<style scoped>\n",
       "    .dataframe tbody tr th:only-of-type {\n",
       "        vertical-align: middle;\n",
       "    }\n",
       "\n",
       "    .dataframe tbody tr th {\n",
       "        vertical-align: top;\n",
       "    }\n",
       "\n",
       "    .dataframe thead th {\n",
       "        text-align: right;\n",
       "    }\n",
       "</style>\n",
       "<table border=\"1\" class=\"dataframe\">\n",
       "  <thead>\n",
       "    <tr style=\"text-align: right;\">\n",
       "      <th></th>\n",
       "      <th>edges</th>\n",
       "      <th>nodes</th>\n",
       "      <th>cell_weights</th>\n",
       "    </tr>\n",
       "  </thead>\n",
       "  <tbody>\n",
       "    <tr>\n",
       "      <th>0</th>\n",
       "      <td>hello</td>\n",
       "      <td>2</td>\n",
       "      <td>0.5</td>\n",
       "    </tr>\n",
       "    <tr>\n",
       "      <th>1</th>\n",
       "      <td>hello</td>\n",
       "      <td>3</td>\n",
       "      <td>0.5</td>\n",
       "    </tr>\n",
       "    <tr>\n",
       "      <th>2</th>\n",
       "      <td>hello</td>\n",
       "      <td>4</td>\n",
       "      <td>0.8</td>\n",
       "    </tr>\n",
       "    <tr>\n",
       "      <th>3</th>\n",
       "      <td>goodbye</td>\n",
       "      <td>1</td>\n",
       "      <td>1.0</td>\n",
       "    </tr>\n",
       "    <tr>\n",
       "      <th>4</th>\n",
       "      <td>goodbye</td>\n",
       "      <td>2</td>\n",
       "      <td>0.3</td>\n",
       "    </tr>\n",
       "    <tr>\n",
       "      <th>5</th>\n",
       "      <td>goodmorning</td>\n",
       "      <td>1</td>\n",
       "      <td>0.4</td>\n",
       "    </tr>\n",
       "    <tr>\n",
       "      <th>6</th>\n",
       "      <td>goodmorning</td>\n",
       "      <td>2</td>\n",
       "      <td>0.2</td>\n",
       "    </tr>\n",
       "    <tr>\n",
       "      <th>7</th>\n",
       "      <td>goodmorning</td>\n",
       "      <td>3</td>\n",
       "      <td>0.8</td>\n",
       "    </tr>\n",
       "  </tbody>\n",
       "</table>\n",
       "</div>"
      ],
      "text/plain": [
       "         edges  nodes  cell_weights\n",
       "0        hello      2           0.5\n",
       "1        hello      3           0.5\n",
       "2        hello      4           0.8\n",
       "3      goodbye      1           1.0\n",
       "4      goodbye      2           0.3\n",
       "5  goodmorning      1           0.4\n",
       "6  goodmorning      2           0.2\n",
       "7  goodmorning      3           0.8"
      ]
     },
     "execution_count": 33,
     "metadata": {},
     "output_type": "execute_result"
    }
   ],
   "source": [
    "my_df = pd.DataFrame(mysetsystem2.items(), columns = ['edges','nodes']).explode('nodes',ignore_index=True)\n",
    "my_df[['nodes','cell_weights']] = pd.DataFrame(my_df['nodes'].tolist(), index= my_df.index)\n",
    "my_df"
   ]
  },
  {
   "cell_type": "code",
   "execution_count": 34,
   "id": "26e12023",
   "metadata": {},
   "outputs": [],
   "source": [
    "anothergraph = hnx.Hypergraph(my_df)"
   ]
  },
  {
   "cell_type": "code",
   "execution_count": null,
   "id": "1a7fa817",
   "metadata": {},
   "outputs": [],
   "source": []
  },
  {
   "cell_type": "code",
   "execution_count": 66,
   "id": "ca1dfa51",
   "metadata": {},
   "outputs": [
    {
     "data": {
      "text/plain": [
       "{'goodbye': 0, 'goodmorning': 1, 'hello': 2, 1: 3, 2: 4, 3: 5, 4: 6}"
      ]
     },
     "execution_count": 66,
     "metadata": {},
     "output_type": "execute_result"
    }
   ],
   "source": [
    "edges_and_nodes = list(anothergraph.edges()) + list(anothergraph.nodes())\n",
    "translator_dict = {elem: idx for idx, elem in enumerate(edges_and_nodes)}\n",
    "inv_translator_dict = {value: key for key, value in translator_dict.items}"
   ]
  },
  {
   "cell_type": "code",
   "execution_count": 81,
   "id": "bb73a27b",
   "metadata": {},
   "outputs": [
    {
     "data": {
      "text/plain": [
       "{'goodbye': [1, 2], 'goodmorning': [1, 2, 3], 'hello': [2, 3, 4]}"
      ]
     },
     "execution_count": 81,
     "metadata": {},
     "output_type": "execute_result"
    }
   ],
   "source": [
    "anothergraph.incidence_dict"
   ]
  },
  {
   "cell_type": "code",
   "execution_count": 43,
   "id": "0a3829b5",
   "metadata": {},
   "outputs": [],
   "source": [
    "bip_another_graph = anothergraph.bipartite()"
   ]
  },
  {
   "cell_type": "code",
   "execution_count": 57,
   "id": "69263251",
   "metadata": {},
   "outputs": [
    {
     "data": {
      "text/plain": [
       "<dict_itemiterator at 0x7f22d7d70f40>"
      ]
     },
     "execution_count": 57,
     "metadata": {},
     "output_type": "execute_result"
    }
   ],
   "source": [
    "bip_another_graph.adjacency()"
   ]
  },
  {
   "cell_type": "code",
   "execution_count": 63,
   "id": "a8315690",
   "metadata": {},
   "outputs": [
    {
     "data": {
      "text/plain": [
       "[1, 2, 3, 4]"
      ]
     },
     "execution_count": 63,
     "metadata": {},
     "output_type": "execute_result"
    }
   ],
   "source": [
    "list(anothergraph.nodes())"
   ]
  },
  {
   "cell_type": "code",
   "execution_count": 49,
   "id": "8289826f",
   "metadata": {},
   "outputs": [
    {
     "data": {
      "text/plain": [
       "[('goodbye', {1: {}, 2: {}}),\n",
       " ('goodmorning', {1: {}, 2: {}, 3: {}}),\n",
       " ('hello', {2: {}, 3: {}, 4: {}}),\n",
       " (1, {'goodbye': {}, 'goodmorning': {}}),\n",
       " (2, {'goodbye': {}, 'goodmorning': {}, 'hello': {}}),\n",
       " (3, {'goodmorning': {}, 'hello': {}}),\n",
       " (4, {'hello': {}})]"
      ]
     },
     "execution_count": 49,
     "metadata": {},
     "output_type": "execute_result"
    }
   ],
   "source": [
    "{i: for key, value in bip_another_graph.adjacency() if list(anothergraph.edges())}"
   ]
  },
  {
   "cell_type": "code",
   "execution_count": 46,
   "id": "d832938a",
   "metadata": {},
   "outputs": [
    {
     "data": {
      "text/plain": [
       "['__class__',\n",
       " '__contains__',\n",
       " '__delattr__',\n",
       " '__dict__',\n",
       " '__dir__',\n",
       " '__doc__',\n",
       " '__eq__',\n",
       " '__format__',\n",
       " '__ge__',\n",
       " '__getattribute__',\n",
       " '__getitem__',\n",
       " '__gt__',\n",
       " '__hash__',\n",
       " '__init__',\n",
       " '__init_subclass__',\n",
       " '__iter__',\n",
       " '__le__',\n",
       " '__len__',\n",
       " '__lt__',\n",
       " '__module__',\n",
       " '__ne__',\n",
       " '__new__',\n",
       " '__reduce__',\n",
       " '__reduce_ex__',\n",
       " '__repr__',\n",
       " '__setattr__',\n",
       " '__sizeof__',\n",
       " '__str__',\n",
       " '__subclasshook__',\n",
       " '__weakref__',\n",
       " '_adj',\n",
       " '_node',\n",
       " 'add_edge',\n",
       " 'add_edges_from',\n",
       " 'add_node',\n",
       " 'add_nodes_from',\n",
       " 'add_weighted_edges_from',\n",
       " 'adj',\n",
       " 'adjacency',\n",
       " 'adjlist_inner_dict_factory',\n",
       " 'adjlist_outer_dict_factory',\n",
       " 'clear',\n",
       " 'clear_edges',\n",
       " 'copy',\n",
       " 'degree',\n",
       " 'edge_attr_dict_factory',\n",
       " 'edge_subgraph',\n",
       " 'edges',\n",
       " 'get_edge_data',\n",
       " 'graph',\n",
       " 'graph_attr_dict_factory',\n",
       " 'has_edge',\n",
       " 'has_node',\n",
       " 'is_directed',\n",
       " 'is_multigraph',\n",
       " 'name',\n",
       " 'nbunch_iter',\n",
       " 'neighbors',\n",
       " 'node_attr_dict_factory',\n",
       " 'node_dict_factory',\n",
       " 'nodes',\n",
       " 'number_of_edges',\n",
       " 'number_of_nodes',\n",
       " 'order',\n",
       " 'remove_edge',\n",
       " 'remove_edges_from',\n",
       " 'remove_node',\n",
       " 'remove_nodes_from',\n",
       " 'size',\n",
       " 'subgraph',\n",
       " 'to_directed',\n",
       " 'to_directed_class',\n",
       " 'to_undirected',\n",
       " 'to_undirected_class',\n",
       " 'update']"
      ]
     },
     "execution_count": 46,
     "metadata": {},
     "output_type": "execute_result"
    }
   ],
   "source": [
    "dir(bip_another_graph)"
   ]
  },
  {
   "cell_type": "code",
   "execution_count": 41,
   "id": "8a6dd579",
   "metadata": {},
   "outputs": [
    {
     "name": "stderr",
     "output_type": "stream",
     "text": [
      "/home/jan/Projects/lotteries/.venv/lib/python3.10/site-packages/hypernetx/classes/entity.py:1387: RuntimeWarning: The values in the array are unorderable. Pass `sort=False` to suppress this warning.\n",
      "  properties = props.combine_first(self.properties)\n",
      "/home/jan/Projects/lotteries/.venv/lib/python3.10/site-packages/hypernetx/classes/entity.py:1390: RuntimeWarning: The values in the array are unorderable. Pass `sort=False` to suppress this warning.\n",
      "  properties[self._misc_props_col] = self.properties[\n",
      "/home/jan/Projects/lotteries/.venv/lib/python3.10/site-packages/hypernetx/classes/entity.py:1387: RuntimeWarning: The values in the array are unorderable. Pass `sort=False` to suppress this warning.\n",
      "  properties = props.combine_first(self.properties)\n",
      "/home/jan/Projects/lotteries/.venv/lib/python3.10/site-packages/hypernetx/classes/entity.py:1390: RuntimeWarning: The values in the array are unorderable. Pass `sort=False` to suppress this warning.\n",
      "  properties[self._misc_props_col] = self.properties[\n"
     ]
    },
    {
     "data": {
      "image/png": "[encoded data removed]",
      "text/plain": [
       "<Figure size 800x800 with 1 Axes>"
      ]
     },
     "metadata": {},
     "output_type": "display_data"
    }
   ],
   "source": [
    "hnx.draw(anothergraph)"
   ]
  },
  {
   "cell_type": "code",
   "execution_count": 30,
   "id": "957834ee",
   "metadata": {},
   "outputs": [
    {
     "name": "stderr",
     "output_type": "stream",
     "text": [
      "<class 'networkx.utils.decorators.argmap'> compilation 12:4: FutureWarning: laplacian_matrix will return a scipy.sparse array instead of a matrix in Networkx 3.0.\n"
     ]
    },
    {
     "data": {
      "image/png": "[encoded data removed]",
      "text/plain": [
       "<Figure size 800x800 with 1 Axes>"
      ]
     },
     "metadata": {},
     "output_type": "display_data"
    }
   ],
   "source": [
    "hnx.drawing.two_column.draw(anothergraph)"
   ]
  },
  {
   "cell_type": "code",
   "execution_count": 1,
   "id": "e722a822",
   "metadata": {},
   "outputs": [],
   "source": [
    "from pynauty import *"
   ]
  },
  {
   "cell_type": "code",
   "execution_count": null,
   "id": "eb9a0aa3",
   "metadata": {},
   "outputs": [],
   "source": []
  },
  {
   "cell_type": "code",
   "execution_count": 27,
   "id": "4bbf4963",
   "metadata": {},
   "outputs": [
    {
     "name": "stdout",
     "output_type": "stream",
     "text": [
      "Graph(number_of_vertices=5, directed=False,\n",
      " adjacency_dict = {\n",
      "  0: [1, 2, 3],\n",
      "  2: [1, 3, 4],\n",
      "  4: [3],\n",
      " },\n",
      " vertex_coloring = [\n",
      "  set([0, 1, 4]),\n",
      "  set([2, 3]),\n",
      " ],\n",
      ")\n"
     ]
    }
   ],
   "source": [
    "g = Graph(5)\n",
    "g.connect_vertex(0, [1, 2, 3])\n",
    "g.connect_vertex(2, [1, 3, 4])\n",
    "g.connect_vertex(4, [3])\n",
    "g.set_vertex_coloring([{0,1,4},{2,3}])\n",
    "print(g)"
   ]
  },
  {
   "cell_type": "code",
   "execution_count": 28,
   "id": "1ee73137",
   "metadata": {},
   "outputs": [
    {
     "data": {
      "text/plain": [
       "[4, 0, 1, 3, 2]"
      ]
     },
     "execution_count": 28,
     "metadata": {},
     "output_type": "execute_result"
    }
   ],
   "source": [
    "canon_label(g)"
   ]
  },
  {
   "cell_type": "code",
   "execution_count": 30,
   "id": "1dce094d",
   "metadata": {},
   "outputs": [],
   "source": [
    "newadj = {canon_label(g).index(key): [canon_label(g).index(v) for v in value] for key, value in g.adjacency_dict.items()}\n",
    "new_color = [{canon_label(g).index(i) for i in {0,1,4}}, {canon_label(g).index(i) for i in {2,3}}]"
   ]
  },
  {
   "cell_type": "code",
   "execution_count": 31,
   "id": "4cd34de2",
   "metadata": {},
   "outputs": [],
   "source": [
    "gnew = Graph(number_of_vertices=5, directed=False,\n",
    " adjacency_dict = newnew,\n",
    " vertex_coloring = new_color,\n",
    ")"
   ]
  },
  {
   "cell_type": "code",
   "execution_count": 32,
   "id": "c623169a",
   "metadata": {},
   "outputs": [
    {
     "data": {
      "text/plain": [
       "[0, 1, 2, 3, 4]"
      ]
     },
     "execution_count": 32,
     "metadata": {},
     "output_type": "execute_result"
    }
   ],
   "source": [
    "canon_label(gnew)"
   ]
  },
  {
   "cell_type": "code",
   "execution_count": null,
   "id": "92661b74",
   "metadata": {},
   "outputs": [],
   "source": []
  },
  {
   "cell_type": "code",
   "execution_count": 69,
   "id": "10a86c82",
   "metadata": {},
   "outputs": [],
   "source": [
    "g3 = Graph(number_of_vertices=5, directed=False,\n",
    " adjacency_dict = {\n",
    "  0: [1, 2, 3],\n",
    "  2: [1, 3, 4],\n",
    "  4: [3 ,2],\n",
    " },\n",
    " vertex_coloring = [\n",
    "  set([0, 1, 4]),\n",
    "  set([2, 3]),\n",
    " ],\n",
    ")\n",
    "\n",
    "g4 = Graph(number_of_vertices=5, directed=False,\n",
    " adjacency_dict = {\n",
    "  0: [1, 2, 3],\n",
    "  2: [1, 3, 4],\n",
    "  4: [3],\n",
    " },\n",
    " vertex_coloring = [\n",
    "  set([0, 1, 4]),\n",
    "  set([2, 3]),\n",
    " ],\n",
    ")"
   ]
  },
  {
   "cell_type": "code",
   "execution_count": 70,
   "id": "9e8394cd",
   "metadata": {},
   "outputs": [
    {
     "data": {
      "text/plain": [
       "True"
      ]
     },
     "execution_count": 70,
     "metadata": {},
     "output_type": "execute_result"
    }
   ],
   "source": [
    "isomorphic(g3,g4)"
   ]
  },
  {
   "cell_type": "code",
   "execution_count": 42,
   "id": "0a061c4f",
   "metadata": {},
   "outputs": [
    {
     "data": {
      "text/plain": [
       "([], 1.0, 0, [0, 1, 2, 3, 4], 5)"
      ]
     },
     "execution_count": 42,
     "metadata": {},
     "output_type": "execute_result"
    }
   ],
   "source": [
    "autgrp(g)"
   ]
  },
  {
   "cell_type": "code",
   "execution_count": 4,
   "id": "fa372ac9",
   "metadata": {},
   "outputs": [
    {
     "name": "stdout",
     "output_type": "stream",
     "text": [
      "Graph(number_of_vertices=5, directed=False,\n",
      " adjacency_dict = {\n",
      "  1: [2, 3, 4],\n",
      "  3: [0, 2, 4],\n",
      "  0: [4],\n",
      " },\n",
      " vertex_coloring = [\n",
      "  set([0, 1, 2]),\n",
      "  set([3, 4]),\n",
      " ],\n",
      ")\n"
     ]
    }
   ],
   "source": [
    "g2 = Graph(5)\n",
    "g2.connect_vertex(1, [2, 3, 4])\n",
    "g2.connect_vertex(3, [2, 4, 0])\n",
    "g2.connect_vertex(0, [4])\n",
    "g2.set_vertex_coloring([{0,1,2},{3,4}])\n",
    "print(g2)"
   ]
  },
  {
   "cell_type": "code",
   "execution_count": null,
   "id": "56eb6042",
   "metadata": {},
   "outputs": [],
   "source": []
  },
  {
   "cell_type": "code",
   "execution_count": 40,
   "id": "5384a19a",
   "metadata": {},
   "outputs": [
    {
     "data": {
      "text/plain": [
       "([], 1.0, 0, [0, 1, 2, 3, 4], 5)"
      ]
     },
     "execution_count": 40,
     "metadata": {},
     "output_type": "execute_result"
    }
   ],
   "source": [
    "autgrp(g2)"
   ]
  },
  {
   "cell_type": "code",
   "execution_count": 43,
   "id": "93b6bc7c",
   "metadata": {},
   "outputs": [
    {
     "data": {
      "text/plain": [
       "True"
      ]
     },
     "execution_count": 43,
     "metadata": {},
     "output_type": "execute_result"
    }
   ],
   "source": [
    "isomorphic(g,g2)"
   ]
  },
  {
   "cell_type": "code",
   "execution_count": 44,
   "id": "c2e8ff64",
   "metadata": {},
   "outputs": [
    {
     "data": {
      "text/plain": [
       "[4, 0, 1, 3, 2]"
      ]
     },
     "execution_count": 44,
     "metadata": {},
     "output_type": "execute_result"
    }
   ],
   "source": [
    "canon_label(g)"
   ]
  },
  {
   "cell_type": "code",
   "execution_count": 45,
   "id": "f2feb306",
   "metadata": {},
   "outputs": [
    {
     "data": {
      "text/plain": [
       "[0, 1, 2, 4, 3]"
      ]
     },
     "execution_count": 45,
     "metadata": {},
     "output_type": "execute_result"
    }
   ],
   "source": [
    "canon_label(g2)"
   ]
  },
  {
   "cell_type": "code",
   "execution_count": 46,
   "id": "5351cf9d",
   "metadata": {},
   "outputs": [
    {
     "data": {
      "text/plain": [
       "True"
      ]
     },
     "execution_count": 46,
     "metadata": {},
     "output_type": "execute_result"
    }
   ],
   "source": [
    "certificate(g2) == certificate(g)"
   ]
  },
  {
   "cell_type": "code",
   "execution_count": 47,
   "id": "01581d20",
   "metadata": {},
   "outputs": [
    {
     "data": {
      "text/plain": [
       "b'\\x00\\x00\\x00\\x00\\x00\\x00\\x00\\x18\\x00\\x00\\x00\\x00\\x00\\x00\\x008\\x00\\x00\\x00\\x00\\x00\\x00\\x00H\\x00\\x00\\x00\\x00\\x00\\x00\\x00\\xc8\\x00\\x00\\x00\\x00\\x00\\x00\\x00\\xf0'"
      ]
     },
     "execution_count": 47,
     "metadata": {},
     "output_type": "execute_result"
    }
   ],
   "source": [
    "certificate(g2)"
   ]
  },
  {
   "cell_type": "code",
   "execution_count": 37,
   "id": "2c811347",
   "metadata": {},
   "outputs": [
    {
     "data": {
      "text/plain": [
       "(2, 3)"
      ]
     },
     "execution_count": 37,
     "metadata": {},
     "output_type": "execute_result"
    }
   ],
   "source": [
    "delete_random_edge(g)"
   ]
  },
  {
   "cell_type": "code",
   "execution_count": 38,
   "id": "e11c50e6",
   "metadata": {},
   "outputs": [
    {
     "data": {
      "text/plain": [
       "False"
      ]
     },
     "execution_count": 38,
     "metadata": {},
     "output_type": "execute_result"
    }
   ],
   "source": [
    "certificate(g2) == certificate(g)"
   ]
  },
  {
   "cell_type": "code",
   "execution_count": null,
   "id": "836ae8cd",
   "metadata": {},
   "outputs": [],
   "source": []
  }
 ],
 "metadata": {
  "kernelspec": {
   "display_name": "Python 3 (ipykernel)",
   "language": "python",
   "name": "python3"
  },
  "language_info": {
   "codemirror_mode": {
    "name": "ipython",
    "version": 3
   },
   "file_extension": ".py",
   "mimetype": "text/x-python",
   "name": "python",
   "nbconvert_exporter": "python",
   "pygments_lexer": "ipython3",
   "version": "3.10.9"
  }
 },
 "nbformat": 4,
 "nbformat_minor": 5
}
